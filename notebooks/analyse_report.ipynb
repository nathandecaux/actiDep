{
 "cells": [
  {
   "cell_type": "code",
   "execution_count": 10,
   "id": "b5497463",
   "metadata": {},
   "outputs": [
    {
     "name": "stdout",
     "output_type": "stream",
     "text": [
      "    bundle metric                     type  n_sig_raw  n_sig_corrected  \\\n",
      "0  ORright     FA              group_group         24                0   \n",
      "1  ORright     FA             group_apathy         24                0   \n",
      "2  ORright     FA                 corr_ami          0                0   \n",
      "3  ORright     FA                 corr_aes          0                0   \n",
      "4  ORright     FA  corr_inactivity_mean_3d          6                3   \n",
      "\n",
      "   max_abs_effect_raw  max_abs_effect_corr  max_abs_r_raw  max_abs_r_partial  \\\n",
      "0            0.024071             0.022717            NaN                NaN   \n",
      "1            0.040962             0.032102            NaN                NaN   \n",
      "2                 NaN                  NaN       0.432951           0.503800   \n",
      "3                 NaN                  NaN       0.385108           0.472479   \n",
      "4                 NaN                  NaN       0.599908           0.588100   \n",
      "\n",
      "   removed_subjects  removed_points  alphaFWE_raw  alphaFWE_corrected   test  \\\n",
      "0                 1               0           NaN            0.002912  group   \n",
      "1                 1               0           NaN            0.002503  group   \n",
      "2                 1               0           NaN                 NaN   corr   \n",
      "3                 1               0           NaN                 NaN   corr   \n",
      "4                 1               0           NaN                 NaN   corr   \n",
      "\n",
      "                  var  \n",
      "0               group  \n",
      "1              apathy  \n",
      "2                 ami  \n",
      "3                 aes  \n",
      "4  inactivity_mean_3d  \n"
     ]
    }
   ],
   "source": [
    "import os\n",
    "import pandas as pd\n",
    "\n",
    "df = pd.read_csv('/home/ndecaux/NAS_EMPENN/share/projects/actidep/report_hcp_association_24pts/summary_results.csv')\n",
    "#Print summary statistics for each column\n",
    "df['test']=df['type'].apply(lambda x: x.split('_')[0])\n",
    "df['var']=df['type'].apply(lambda x: '_'.join(x.split('_')[1:]))\n",
    "print(df.head())"
   ]
  }
 ],
 "metadata": {
  "kernelspec": {
   "display_name": "base",
   "language": "python",
   "name": "python3"
  },
  "language_info": {
   "codemirror_mode": {
    "name": "ipython",
    "version": 3
   },
   "file_extension": ".py",
   "mimetype": "text/x-python",
   "name": "python",
   "nbconvert_exporter": "python",
   "pygments_lexer": "ipython3",
   "version": "3.12.2"
  }
 },
 "nbformat": 4,
 "nbformat_minor": 5
}
