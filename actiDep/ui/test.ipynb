{
 "cells": [
  {
   "cell_type": "code",
   "execution_count": 9,
   "id": "f9a563c8",
   "metadata": {},
   "outputs": [
    {
     "name": "stderr",
     "output_type": "stream",
     "text": [
      "/home/ndecaux/miniconda3/lib/python3.12/site-packages/bids/layout/validation.py:126: UserWarning: The PipelineDescription field was superseded by GeneratedBy in BIDS 1.4.0. You can use ``pybids upgrade`` to update your derivative dataset.\n",
      "  warnings.warn(\"The PipelineDescription field was superseded \"\n"
     ]
    },
    {
     "data": {
      "text/plain": [
       "['01002', '01020', '03002', '03011']"
      ]
     },
     "execution_count": 9,
     "metadata": {},
     "output_type": "execute_result"
    }
   ],
   "source": [
    "import os\n",
    "from flask import Flask, jsonify, request, render_template, send_file\n",
    "from flask_cors import CORS\n",
    "from bids import BIDSLayout\n",
    "from actiDep.set_config import set_config\n",
    "from actiDep.data.loader import Subject, ActiDepFile\n",
    "import pandas as pd\n",
    "import json\n",
    "import tempfile\n",
    "import logging\n",
    "import pathlib\n",
    "import base64\n",
    "import subprocess\n",
    "import random\n",
    "import re  # Pour les recherches textuelles\n",
    "from browser import get_subjects  \n",
    "# Variables globales\n",
    "config, tools = set_config()\n",
    "db_root = '/home/ndecaux/Data/actidep_bids'\n",
    "layout = None\n",
    "# Cache pour stocker les sujets déjà chargés\n",
    "subject_cache = {}\n",
    "\n",
    "def init_layout():\n",
    "    global layout\n",
    "    if layout is None:\n",
    "        layout = BIDSLayout(db_root, derivatives=True, validate=False)\n",
    "    return layout\n",
    "\n",
    "layout=None\n",
    "\"\"\"Récupère la liste des sujets disponibles\"\"\"\n",
    "layout = init_layout()\n",
    "subjects = layout.get_subjects()\n",
    "subjects\n"
   ]
  }
 ],
 "metadata": {
  "kernelspec": {
   "display_name": "base",
   "language": "python",
   "name": "python3"
  },
  "language_info": {
   "codemirror_mode": {
    "name": "ipython",
    "version": 3
   },
   "file_extension": ".py",
   "mimetype": "text/x-python",
   "name": "python",
   "nbconvert_exporter": "python",
   "pygments_lexer": "ipython3",
   "version": "3.12.9"
  }
 },
 "nbformat": 4,
 "nbformat_minor": 5
}
