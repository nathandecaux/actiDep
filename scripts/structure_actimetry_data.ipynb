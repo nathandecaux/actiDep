{
 "cells": [
  {
   "cell_type": "code",
   "execution_count": null,
   "id": "b4a151f1",
   "metadata": {},
   "outputs": [
    {
     "name": "stdout",
     "output_type": "stream",
     "text": [
      "{'1': {'name': 'inactivity_mean_3d', 'description': 'Mean duration of inactivity sequences over 3 days (72 hours)'}, '2': {'name': 'inactivity_std_3d', 'description': 'Standard deviation of inactivity sequences over 3 days (72 hours)'}, '3': {'name': 'inactivity_min_3d', 'description': 'Minimum duration of inactivity sequences over 3 days (72 hours)'}, '4': {'name': 'inactivity_max_3d', 'description': 'Maximum duration of inactivity sequences over 3 days (72 hours)'}, '5': {'name': 'activity_mean_3d', 'description': 'Mean duration of activity sequences over 3 days (72 hours)'}, '6': {'name': 'activity_std_3d', 'description': 'Standard deviation of activity sequences over 3 days (72 hours)'}, '7': {'name': 'activity_min_3d', 'description': 'Minimum duration of activity sequences over 3 days (72 hours)'}, '8': {'name': 'activity_max_3d', 'description': 'Maximum duration of activity sequences over 3 days (72 hours)'}, '9': {'name': 'freq_mean_3d', 'description': 'Mean fundamental frequency (movement rhythm) over 3 days (72 hours)'}, '10': {'name': 'freq_std_3d', 'description': 'Standard deviation of fundamental frequency over 3 days (72 hours)'}, '11': {'name': 'freq_min_3d', 'description': 'Minimum fundamental frequency over 3 days (72 hours)'}, '12': {'name': 'freq_max_3d', 'description': 'Maximum fundamental frequency over 3 days (72 hours)'}, '13': {'name': 'activity_rate_3d', 'description': 'Activity rate - proportion of active segments relative to total time over 3 days'}, '14': {'name': 'inactivity_mean_12h', 'description': 'Mean duration of inactivity sequences per 12-hour block'}, '15': {'name': 'inactivity_std_12h', 'description': 'Standard deviation of inactivity sequences per 12-hour block'}, '16': {'name': 'inactivity_min_12h', 'description': 'Minimum duration of inactivity sequences per 12-hour block'}, '17': {'name': 'inactivity_max_12h', 'description': 'Maximum duration of inactivity sequences per 12-hour block'}, '18': {'name': 'activity_mean_12h', 'description': 'Mean duration of activity sequences per 12-hour block'}, '19': {'name': 'activity_std_12h', 'description': 'Standard deviation of activity sequences per 12-hour block'}, '20': {'name': 'activity_min_12h', 'description': 'Minimum duration of activity sequences per 12-hour block'}, '21': {'name': 'activity_max_12h', 'description': 'Maximum duration of activity sequences per 12-hour block'}, '22': {'name': 'freq_mean_12h', 'description': 'Mean fundamental frequency per 12-hour block'}, '23': {'name': 'freq_std_12h', 'description': 'Standard deviation of fundamental frequency per 12-hour block'}, '24': {'name': 'freq_min_12h', 'description': 'Minimum fundamental frequency per 12-hour block'}, '25': {'name': 'freq_max_12h', 'description': 'Maximum fundamental frequency per 12-hour block'}, '26': {'name': 'walk_mean_12h', 'description': 'Mean duration of walking periods per 12-hour block'}, '27': {'name': 'walk_std_12h', 'description': 'Standard deviation of walking periods per 12-hour block'}, '28': {'name': 'walk_min_12h', 'description': 'Minimum duration of walking periods per 12-hour block'}, '29': {'name': 'walk_max_12h', 'description': 'Maximum duration of walking periods per 12-hour block'}, '30': {'name': 'walk_fft_mean_12h', 'description': 'Mean FFT of walking periods per 12-hour block'}, '31': {'name': 'walk_fft_std_12h', 'description': 'Standard deviation of FFT of walking periods per 12-hour block'}, '32': {'name': 'walk_fft_min_12h', 'description': 'Minimum FFT of walking periods per 12-hour block'}, '33': {'name': 'walk_fft_max_12h', 'description': 'Maximum FFT of walking periods per 12-hour block'}, '34': {'name': 'oadl_mean_12h', 'description': 'Mean duration of Other Activities of Daily Living (OADL) per 12-hour block'}, '35': {'name': 'oadl_std_12h', 'description': 'Standard deviation of OADL periods per 12-hour block'}, '36': {'name': 'oadl_min_12h', 'description': 'Minimum duration of OADL periods per 12-hour block'}, '37': {'name': 'oadl_max_12h', 'description': 'Maximum duration of OADL periods per 12-hour block'}, '38': {'name': 'oadl_fft_mean_12h', 'description': 'Mean FFT of OADL periods per 12-hour block'}, '39': {'name': 'oadl_fft_std_12h', 'description': 'Standard deviation of FFT of OADL periods per 12-hour block'}, '40': {'name': 'oadl_fft_min_12h', 'description': 'Minimum FFT of OADL periods per 12-hour block'}, '41': {'name': 'oadl_fft_max_12h', 'description': 'Maximum FFT of OADL periods per 12-hour block'}}\n",
      "['inactivity_mean_3d', 'inactivity_std_3d', 'inactivity_min_3d', 'inactivity_max_3d', 'activity_mean_3d', 'activity_std_3d', 'activity_min_3d', 'activity_max_3d', 'freq_mean_3d', 'freq_std_3d', 'freq_min_3d', 'freq_max_3d', 'activity_rate_3d']\n"
     ]
    }
   ],
   "source": [
    "import pandas as pd\n",
    "import os\n",
    "import json\n",
    "descriptions=\"/home/ndecaux/NAS_EMPENN/share/projects/actidep/bids/actimetry_feature_descriptions.json\"\n",
    "# Load the JSON file\n",
    "with open(descriptions, 'r') as file:\n",
    "    descriptions = json.load(file)\n",
    "print(descriptions)\n",
    "df_12h = pd.read_excel(\n",
    "    '/home/ndecaux/NAS_EMPENN/share/projects/actidep/bids/all_patients_3j.xlsx', index_col=0)\n",
    "\n",
    "\n",
    "# #Rename columns based on descriptions\n",
    "columns = df_3j.columns\n",
    "new_names = [\n",
    "    descriptions[str(col)]['name'] for col in columns if str(col) in descriptions.keys()\n",
    "]\n",
    "\n",
    "print(new_names)\n",
    "df_12h.columns = new_names\n",
    "df_12h.to_excel('/home/ndecaux/NAS_EMPENN/share/projects/actidep/bids/actimetry_features_3j.xlsx')\n"
   ]
  },
  {
   "cell_type": "code",
   "execution_count": 12,
   "id": "4659a6b8",
   "metadata": {},
   "outputs": [],
   "source": [
    "df_12h = pd.read_excel(\n",
    "    '/home/ndecaux/NAS_EMPENN/share/projects/actidep/bids/all_patients_12h.xlsx', index_col=0)\n",
    "\n",
    "\n",
    "# #Rename columns based on descriptions\n",
    "columns = df_12h.columns\n",
    "new_names = [\n",
    "    descriptions[str(col)]['name'] for col in columns if str(col) in descriptions.keys()\n",
    "]\n",
    "\n",
    "df_12h.columns = new_names\n",
    "df_12h.to_excel('/home/ndecaux/NAS_EMPENN/share/projects/actidep/bids/actimetry_features_12h.xlsx')\n",
    "\n",
    "#Add a column name to index\n",
    "df_12h.reset_index(inplace=True)\n",
    "df_12h.rename(columns={'index': 'subject_id'}, inplace=True)\n",
    "\n",
    "#Create only one line per subject. Add the number of the line at the end of each column name to identify the line\n",
    "df_12h['line'] = df_12h.groupby('subject_id').cumcount() + 1\n",
    "df_12h_wide = df_12h.pivot(index='subject_id', columns='line')\n",
    "df_12h_wide.columns = [f\"{col[0]}_{col[1]}\" for col in df_12h_wide.columns]\n",
    "df_12h_wide.reset_index(inplace=True)\n",
    "df_12h_wide\n",
    "\n",
    "#Fuse with df_3j\n",
    "df_3j = pd.read_excel(\n",
    "    '/home/ndecaux/NAS_EMPENN/share/projects/actidep/bids/actimetry_features_3j.xlsx', index_col=0)\n",
    "df_3j.reset_index(inplace=True)\n",
    "df_3j.rename(columns={'index': 'subject_id'}, inplace=True)\n",
    "df_final = pd.merge(df_3j, df_12h_wide, on='subject_id', how='outer')\n",
    "#rename index on participant_id\n",
    "df_final.rename(columns={'subject_id': 'participant_id'}, inplace=True)\n",
    "df_final.set_index('participant_id', inplace=True)\n",
    "df_final.to_excel('/home/ndecaux/NAS_EMPENN/share/projects/actidep/bids/actimetry_features.xlsx')"
   ]
  },
  {
   "cell_type": "code",
   "execution_count": null,
   "id": "50ef59c2",
   "metadata": {},
   "outputs": [],
   "source": [
    "#Fuse both tables\n"
   ]
  }
 ],
 "metadata": {
  "kernelspec": {
   "display_name": "base",
   "language": "python",
   "name": "python3"
  },
  "language_info": {
   "codemirror_mode": {
    "name": "ipython",
    "version": 3
   },
   "file_extension": ".py",
   "mimetype": "text/x-python",
   "name": "python",
   "nbconvert_exporter": "python",
   "pygments_lexer": "ipython3",
   "version": "3.12.2"
  }
 },
 "nbformat": 4,
 "nbformat_minor": 5
}
